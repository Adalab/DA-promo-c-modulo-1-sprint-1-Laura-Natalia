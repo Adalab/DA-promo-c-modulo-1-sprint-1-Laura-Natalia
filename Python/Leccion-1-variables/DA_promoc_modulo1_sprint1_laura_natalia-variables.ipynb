{
 "cells": [
  {
   "cell_type": "markdown",
   "metadata": {},
   "source": [
    "Cread tres variables numéricas de tipo integer (entero), llamadas de la siguiente forma:\n",
    "\n",
    "numero1\n",
    "numero2\n",
    "numero3\n",
    "\n",
    "Utilizando los operadores lógicos:\n",
    "\n",
    "En vuestro caso, es el numero1 mayor que el numero2\n",
    "Es el numero1 menor que el numero2 pero mayor que el numero3\n",
    "Es el numero3 igual que el numero2\n",
    "Es el numero2 distinto que el numero1"
   ]
  },
  {
   "cell_type": "code",
   "execution_count": 3,
   "metadata": {},
   "outputs": [
    {
     "name": "stdout",
     "output_type": "stream",
     "text": [
      "False\n",
      "False\n",
      "False\n",
      "True\n"
     ]
    }
   ],
   "source": [
    "numero1 = 2\n",
    "numero2 = 4\n",
    "numero3 = 6\n",
    "\n",
    "print(numero1>numero2)\n",
    "print(numero2<numero1>numero3)\n",
    "print(numero3==numero2)\n",
    "print(numero2!=numero1)\n"
   ]
  },
  {
   "cell_type": "markdown",
   "metadata": {},
   "source": [
    "Cread dos variables numéricas de tipo float (decimal) con dos decimales, llamdas de la siguiente forma:\n",
    "\n",
    "altura1\n",
    "altura2\n",
    "\n",
    "Utilizando los operadores matemáticos aprendidos en la lección:\n",
    "\n",
    "Cuál es la suma de las dos alturas\n",
    "Cuál es la diferencia entre las alturas\n",
    "Cuál es el resto de la división de las dos alturas\n",
    "Cuál es resultado de la división de las dos alturas, redondead el resultado a un decimal."
   ]
  },
  {
   "cell_type": "code",
   "execution_count": 9,
   "metadata": {},
   "outputs": [
    {
     "name": "stdout",
     "output_type": "stream",
     "text": [
      "16.0\n",
      "-5.0\n",
      "5.5\n",
      "0.5\n"
     ]
    }
   ],
   "source": [
    "altura1 = 5.50\n",
    "altura2 = 10.50\n",
    "\n",
    "print(altura1+altura2)\n",
    "print(altura1-altura2)\n",
    "print(altura1%altura2)\n",
    "\n",
    "altura3 = altura1/altura2\n",
    "print(round(altura3,1))\n"
   ]
  },
  {
   "cell_type": "markdown",
   "metadata": {},
   "source": [
    "Escribid un programa usando la función input() que le pregunte al usuario su nombre y apellidos. Una vez que tengamos el nombre del usuario:\n",
    "\n",
    "Printead su nombre y apellidos todo en mayúsculas\n",
    "Printead su nombre y apellidos todo en minúsculas\n",
    "Printead su nombre y apellidos con la primera letra del nombre y los apellidos en mayúscula y el resto en minúscula.\n",
    "Printeas solo la primera letra del nombre en mayúscula."
   ]
  },
  {
   "cell_type": "code",
   "execution_count": 14,
   "metadata": {},
   "outputs": [
    {
     "name": "stdout",
     "output_type": "stream",
     "text": [
      "LAURA ONTENIENTE\n",
      "laura onteniente\n",
      "Laura Onteniente\n",
      "Laura onteniente\n"
     ]
    }
   ],
   "source": [
    "nombre_apellido = input(\"dinos tu nombre y apellido\")\n",
    "\n",
    "print(nombre_apellido.upper())\n",
    "print(nombre_apellido.lower())\n",
    "print(nombre_apellido.title())\n",
    "print(nombre_apellido.capitalize())"
   ]
  },
  {
   "cell_type": "markdown",
   "metadata": {},
   "source": [
    "Escribid un programa usando la función input() que:\n",
    "\n",
    "Le pregunte al usuario por una frase, almacenad este resultado en una variable.\n",
    "Le pregunte al usuario por una vocal, almacenad este resultado en una variable.\n",
    "Printead la misma frase pero con la vocal introducida en mayúsulas."
   ]
  },
  {
   "cell_type": "code",
   "execution_count": 16,
   "metadata": {},
   "outputs": [
    {
     "name": "stdout",
     "output_type": "stream",
     "text": [
      "Bien, gracias A\n"
     ]
    }
   ],
   "source": [
    "frase = input(\"¿Qué tal estás?\")\n",
    "vocal = input(\"Dime una vocal\")\n",
    "\n",
    "print(frase,vocal.upper())"
   ]
  },
  {
   "cell_type": "markdown",
   "metadata": {},
   "source": [
    "Escribid un programa usando la función input() que:\n",
    "\n",
    "Le pregunte al usuario por la lista de la compra, separando cada elemento por comas.\n",
    "Devolved la lista de compra donde veamos cada elemento en una línea.\n",
    "\n",
    "💡Pista\n",
    "Para indicar salto de línea usaremos \"\\n\".\n",
    "Deberéis usar el método join de los strings"
   ]
  },
  {
   "cell_type": "code",
   "execution_count": 30,
   "metadata": {},
   "outputs": [],
   "source": [
    "lista_compra = input(\"Dime tu lista de la compra\")\n",
    "\n"
   ]
  },
  {
   "cell_type": "code",
   "execution_count": 33,
   "metadata": {},
   "outputs": [
    {
     "name": "stdout",
     "output_type": "stream",
     "text": [
      "fresas,\n",
      "manzanas,\n",
      "naranjas\n"
     ]
    }
   ],
   "source": [
    "lista_compra_separada = lista_compra.split(\" \")\n",
    "\n",
    "print(\"\\n\".join(lista_compra_separada))"
   ]
  }
 ],
 "metadata": {
  "kernelspec": {
   "display_name": "Python 3.9.7 ('base')",
   "language": "python",
   "name": "python3"
  },
  "language_info": {
   "codemirror_mode": {
    "name": "ipython",
    "version": 3
   },
   "file_extension": ".py",
   "mimetype": "text/x-python",
   "name": "python",
   "nbconvert_exporter": "python",
   "pygments_lexer": "ipython3",
   "version": "3.9.7"
  },
  "orig_nbformat": 4,
  "vscode": {
   "interpreter": {
    "hash": "a132548e790cb25f951c67ed157520233be95043d6eb3836371ed4d98e90df31"
   }
  }
 },
 "nbformat": 4,
 "nbformat_minor": 2
}
