{
 "cells": [
  {
   "cell_type": "markdown",
   "metadata": {},
   "source": [
    "En el pair programming de hoy trabajaremos con diccionarios. El objetivo es poner en práctica todos los métodos aprendidos hasta el momento. Para ello lo primero que haremos será contruir un diccionario paso a paso. Nuestro diccionario estará compuesto por:"
   ]
  },
  {
   "cell_type": "markdown",
   "metadata": {},
   "source": [
    "Cuatro keys que serán:\n",
    "\n",
    "nombres\n",
    "\n",
    "apellidos\n",
    "\n",
    "edades\n",
    "\n",
    "hijos"
   ]
  },
  {
   "cell_type": "markdown",
   "metadata": {},
   "source": [
    "Cada una de las keys tendrá un value que será una lista que iremos construyendo con inputs. Para crear los values seguid los pasos que os indicamos a continuación."
   ]
  },
  {
   "cell_type": "markdown",
   "metadata": {},
   "source": [
    "Cread un input que pregunte a la usuaria por tres nombres. Almacenad el resultado en una lista. Esta lista será el value de la key nombres"
   ]
  },
  {
   "cell_type": "code",
   "execution_count": 6,
   "metadata": {},
   "outputs": [],
   "source": [
    "lista_nombres = input(\"Nombre 1\"), input(\"Nombre 2\"), input(\"Nombre 3\")"
   ]
  },
  {
   "cell_type": "markdown",
   "metadata": {},
   "source": [
    "Cread un input que pregunte a la usuaria por tres apellidos. Convertir el resultado en lista y este será el value de la key apellidos."
   ]
  },
  {
   "cell_type": "code",
   "execution_count": 7,
   "metadata": {},
   "outputs": [],
   "source": [
    "lista_apellidos = input(\"Apellido 1\"), input(\"Apellido 2\"), input(\"Apellido 3\")"
   ]
  },
  {
   "cell_type": "markdown",
   "metadata": {},
   "source": [
    "Cread un input que pregunte a la usuaria por tres edades. Almancenad los resultados en una lista. Esta lista será el value de la key edades."
   ]
  },
  {
   "cell_type": "code",
   "execution_count": 8,
   "metadata": {},
   "outputs": [],
   "source": [
    "lista_edades = input(\"Edad 1\"), input(\"Edad 2\"), input(\"Edad 3\")"
   ]
  },
  {
   "cell_type": "markdown",
   "metadata": {},
   "source": [
    "Cread un input que pregunte a la usuaria por el número de hijos. Almacenad este resultado en una lista. Esta lista será el value de la key hijos."
   ]
  },
  {
   "cell_type": "code",
   "execution_count": 9,
   "metadata": {},
   "outputs": [],
   "source": [
    "lista_hijos = input(\"Hijos 1\"), input(\"Hijos 2\"), input(\"Hijos 3\")"
   ]
  },
  {
   "cell_type": "markdown",
   "metadata": {},
   "source": [
    "Cread un diccionario con los resultados del input. Al final de todos estos pasos deberíamos tener un diccionario similar a este:\n",
    "\n",
    "{'nombres': ['Lara', ' Alejandro', ' Ana'],\n",
    "\n",
    "  'apellidos': ['Lopez', ' Martin', ' Solo'],\n",
    "\n",
    "  'edades': [34, 20, 28],\n",
    "  \n",
    "  'hijos': [2, 0, 1]}"
   ]
  },
  {
   "cell_type": "code",
   "execution_count": 10,
   "metadata": {},
   "outputs": [
    {
     "name": "stdout",
     "output_type": "stream",
     "text": [
      "{'nombres': ('Ana', 'Natalia', 'Laura'), 'apellidos': ('Lago', 'Garcia', 'Onte'), 'edades': ('34', '37', '29'), 'hijos': ('5', '2', '3')}\n"
     ]
    }
   ],
   "source": [
    "diccionario = {\"nombres\" : lista_nombres, \"apellidos\" : lista_apellidos, \"edades\" : lista_edades, \"hijos\" : lista_hijos}\n",
    "print(diccionario)"
   ]
  },
  {
   "cell_type": "markdown",
   "metadata": {},
   "source": [
    "Una vez tengáis creado el diccionario, añadid una nueva key donde tengamos la información sobre el número de hermanos."
   ]
  },
  {
   "cell_type": "code",
   "execution_count": 11,
   "metadata": {},
   "outputs": [],
   "source": [
    "diccionario[\"número de hermanos\"] = []"
   ]
  },
  {
   "cell_type": "markdown",
   "metadata": {},
   "source": [
    "¿Cúales son las keys de nuestro diccionario? ¿Y los values?"
   ]
  },
  {
   "cell_type": "code",
   "execution_count": 12,
   "metadata": {},
   "outputs": [
    {
     "name": "stdout",
     "output_type": "stream",
     "text": [
      "dict_keys(['nombres', 'apellidos', 'edades', 'hijos', 'número de hermanos'])\n",
      "dict_values([('Ana', 'Natalia', 'Laura'), ('Lago', 'Garcia', 'Onte'), ('34', '37', '29'), ('5', '2', '3'), []])\n"
     ]
    }
   ],
   "source": [
    "print(diccionario.keys())\n",
    "print(diccionario.values())"
   ]
  },
  {
   "cell_type": "markdown",
   "metadata": {},
   "source": [
    "Para extraer los values de una key podemos hacerlo de varias formas.\n",
    "\n",
    "Extraed los valores de la key nombres. Utilizad dos métodos diferentes."
   ]
  },
  {
   "cell_type": "code",
   "execution_count": 13,
   "metadata": {},
   "outputs": [
    {
     "name": "stdout",
     "output_type": "stream",
     "text": [
      "('Ana', 'Natalia', 'Laura')\n",
      "('Ana', 'Natalia', 'Laura')\n"
     ]
    }
   ],
   "source": [
    "print(diccionario[\"nombres\"])\n",
    "print(diccionario.get(\"nombres\"))"
   ]
  },
  {
   "cell_type": "markdown",
   "metadata": {},
   "source": [
    "Extraed los valores de la key nacionalidad. En caso de que no exista, cread esa key con el value \"desconocida\"."
   ]
  },
  {
   "cell_type": "code",
   "execution_count": 14,
   "metadata": {},
   "outputs": [
    {
     "data": {
      "text/plain": [
       "'desconocida'"
      ]
     },
     "execution_count": 14,
     "metadata": {},
     "output_type": "execute_result"
    }
   ],
   "source": [
    "diccionario.setdefault(\"nacionalidad\",\"desconocida\")"
   ]
  },
  {
   "cell_type": "markdown",
   "metadata": {},
   "source": [
    "Ordena los elementos del diccionario basandonos en las keys y los values. Esto nos devuelve una lista de tuplas(todavía no hemos visto este tipo de datos, pero lo veremos en la lección de mañana). Convertid esta lista de tuplas en diccionario."
   ]
  },
  {
   "cell_type": "code",
   "execution_count": 15,
   "metadata": {},
   "outputs": [
    {
     "name": "stdout",
     "output_type": "stream",
     "text": [
      "[('apellidos', ('Lago', 'Garcia', 'Onte')), ('edades', ('34', '37', '29')), ('hijos', ('5', '2', '3')), ('nacionalidad', 'desconocida'), ('nombres', ('Ana', 'Natalia', 'Laura')), ('número de hermanos', [])]\n"
     ]
    }
   ],
   "source": [
    "diccionario_ordenado = sorted(diccionario.items())\n",
    "print(diccionario_ordenado)"
   ]
  },
  {
   "cell_type": "code",
   "execution_count": 16,
   "metadata": {},
   "outputs": [],
   "source": [
    "diccionario2 = dict(diccionario_ordenado)"
   ]
  },
  {
   "cell_type": "code",
   "execution_count": 17,
   "metadata": {},
   "outputs": [
    {
     "data": {
      "text/plain": [
       "dict"
      ]
     },
     "execution_count": 17,
     "metadata": {},
     "output_type": "execute_result"
    }
   ],
   "source": [
    "type(diccionario2)"
   ]
  },
  {
   "cell_type": "markdown",
   "metadata": {},
   "source": [
    "Eliminad la key de \"nacionalidad\"\n"
   ]
  },
  {
   "cell_type": "code",
   "execution_count": 18,
   "metadata": {},
   "outputs": [
    {
     "data": {
      "text/plain": [
       "'desconocida'"
      ]
     },
     "execution_count": 18,
     "metadata": {},
     "output_type": "execute_result"
    }
   ],
   "source": [
    "diccionario.pop(\"nacionalidad\")"
   ]
  },
  {
   "cell_type": "markdown",
   "metadata": {},
   "source": [
    "Utilizando métodos de Python. ¿Qué persona tiene mayor nuúmero de hijos? ¿Y quién es la más joven?"
   ]
  },
  {
   "cell_type": "code",
   "execution_count": 27,
   "metadata": {},
   "outputs": [
    {
     "name": "stdout",
     "output_type": "stream",
     "text": [
      "Ana\n"
     ]
    }
   ],
   "source": [
    "hijos_mas = max(diccionario[\"hijos\"])\n",
    "print(diccionario[\"nombres\"][diccionario[\"hijos\"].index(hijos_mas)])"
   ]
  },
  {
   "cell_type": "code",
   "execution_count": 28,
   "metadata": {},
   "outputs": [
    {
     "name": "stdout",
     "output_type": "stream",
     "text": [
      "Laura\n"
     ]
    }
   ],
   "source": [
    "min_edades = min(diccionario[\"edades\"])\n",
    "print(diccionario[\"nombres\"][diccionario[\"edades\"].index(min_edades)])"
   ]
  }
 ],
 "metadata": {
  "kernelspec": {
   "display_name": "Python 3.9.7 ('base')",
   "language": "python",
   "name": "python3"
  },
  "language_info": {
   "codemirror_mode": {
    "name": "ipython",
    "version": 3
   },
   "file_extension": ".py",
   "mimetype": "text/x-python",
   "name": "python",
   "nbconvert_exporter": "python",
   "pygments_lexer": "ipython3",
   "version": "3.9.7"
  },
  "orig_nbformat": 4,
  "vscode": {
   "interpreter": {
    "hash": "a132548e790cb25f951c67ed157520233be95043d6eb3836371ed4d98e90df31"
   }
  }
 },
 "nbformat": 4,
 "nbformat_minor": 2
}
