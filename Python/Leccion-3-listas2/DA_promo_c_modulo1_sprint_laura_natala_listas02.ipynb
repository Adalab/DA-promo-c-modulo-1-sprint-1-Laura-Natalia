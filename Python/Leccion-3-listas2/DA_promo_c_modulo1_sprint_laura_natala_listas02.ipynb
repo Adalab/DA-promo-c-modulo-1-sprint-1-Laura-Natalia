{
 "cells": [
  {
   "cell_type": "markdown",
   "metadata": {},
   "source": [
    "Cread una lista con 10 números aleatorios entre el 0 y el 100. Para esto tendréis que ejecutar el siguiente código:"
   ]
  },
  {
   "cell_type": "code",
   "execution_count": 1,
   "metadata": {},
   "outputs": [],
   "source": [
    "import random\n",
    "lista = random.sample(range(1,100), 10)"
   ]
  },
  {
   "cell_type": "markdown",
   "metadata": {},
   "source": [
    "Este código no tenemos por que entenderlo. En este código veremos un par de cosas que no sabemos que son:\n",
    "\n",
    "random.sample(): os dejamos por aquí la documentación de la random.sample por si queréis curiosear.\n",
    "\n",
    "range(): aquí tenéis la documentación para las más atrevidas.\n",
    "\n",
    "Aunque no es obligatorio que investiguéis en profundidad estos links, si que es recomendable. Como futuras analistas y programadoras debemos acostumbrarnos a leer documentación.\n",
    "\n",
    "Con la lista creada en el ejercicio anterior:\n",
    "\n",
    "📌 Nota: cuando os preguntamos el elemento que esta en la tercera posición nos referimos a la posición \"humana\", es decir, dada la siguiente lista:"
   ]
  },
  {
   "cell_type": "code",
   "execution_count": null,
   "metadata": {},
   "outputs": [],
   "source": [
    "ejemplo = [4,6,2,7,9,0]\n",
    "\n",
    "# si os pedimos el número que esta en tercera posición el resultado deberá ser \"2\"\n",
    "\n",
    "# si os pedimos el número que esta en primera posición deberá ser \"4\""
   ]
  },
  {
   "cell_type": "markdown",
   "metadata": {},
   "source": [
    "¿Cuál es la longitud de la lista? Utilizad métodos de Python para extraer este resultado.\n",
    "\n",
    "Extraed el número que está en la tercera posición.Recordad que los índices en Python empiezan en 0 y que no corresponden con las \"posiciones humanas\"\n",
    "\n",
    "Extraed el número que esta en la tercera posición utilizando los índices negativos."
   ]
  },
  {
   "cell_type": "code",
   "execution_count": 9,
   "metadata": {},
   "outputs": [
    {
     "name": "stdout",
     "output_type": "stream",
     "text": [
      "[89, 9, 60, 96, 61, 19, 98, 42, 75, 88]\n",
      "10\n",
      "60\n",
      "60\n"
     ]
    }
   ],
   "source": [
    "\n",
    "# Visualizamos la lista:\n",
    "print(lista)\n",
    "\n",
    "# Calculamos su longitud:\n",
    "print(len(lista))\n",
    "\n",
    "# Extraemos el valor de la tercera posición, y el de la quinta en negativo:\n",
    "print(lista[2])\n",
    "print(lista[-8])"
   ]
  },
  {
   "cell_type": "markdown",
   "metadata": {},
   "source": [
    "Preguntad al usuario por un número de la lista que hemos creado en el primer paso, recordad que para eso tendréis que usar la función input. ¿En que posición esta el número que ha eligido la usuaria?\n",
    "\n",
    "Extraed los valores que estén entre la tercera posición y la quinta (ambos inclusive). Esto nos tendrá que devolver una lista de 3 elementos.\n",
    "\n",
    "Extraed los valores que estén entre las posiciones 6 y 9 utilizando índices negativos. Os debe devolver una lista con 4 números.\n",
    "¿Cuáles son los numéros que están en las posiciones pares nuestra lista?\n",
    "\n",
    "¿Y los que están en posiciones impares?"
   ]
  },
  {
   "cell_type": "code",
   "execution_count": 27,
   "metadata": {},
   "outputs": [
    {
     "name": "stdout",
     "output_type": "stream",
     "text": [
      "19\n",
      "5\n",
      "[60, 96, 61]\n",
      "[19, 98, 42, 75]\n",
      "[9, 96, 19, 42, 88]\n",
      "[89, 60, 61, 98, 75]\n"
     ]
    }
   ],
   "source": [
    "numero = input(\"Elige un número de la lista\")\n",
    "\n",
    "# Le preguntamos en qué posición está el número que nos han dado en el input:\n",
    "print(numero)\n",
    "print(lista.index(19))\n",
    "\n",
    "# Extreamos los valores que están entre la tercera posición y la quinta, ambos inclusive:\n",
    "print(lista[2:5])\n",
    "\n",
    "# Extraemos los valores que están entre sexta posición y la novena, con indices negativos:\n",
    "print(lista[-5:-1])\n",
    "\n",
    "# Extremos los valores que están en posiciones pares:\n",
    "print(lista[1::2])\n",
    "\n",
    "# Extremos los valores que están en posiciones impares:\n",
    "print(lista[::2])"
   ]
  },
  {
   "cell_type": "markdown",
   "metadata": {},
   "source": [
    "Dadas las siguientes listas:"
   ]
  },
  {
   "cell_type": "code",
   "execution_count": 28,
   "metadata": {},
   "outputs": [],
   "source": [
    "nombres = [\"Laura\", \"Lorena\", \"Lupe\", \"Loreto\", \"Lucía\"]\n",
    "\n",
    "notas = [9, 8.5, 9.8, 8.9, 9.2]"
   ]
  },
  {
   "cell_type": "markdown",
   "metadata": {},
   "source": [
    "Qué nota ha sacado Lupe? Para este ejercicio os pedimos que uséis primero el método index() de listas y luego lo índices con [] de las listas. Para esto tendréis que sacar primero en que posición esta Lupe en la lista nombres y usar el resultado de este paso para acceder ,usando los índices de Python, a la nota de Lupe.\n",
    "\n",
    "De la misma forma, ¿qué alumna a sacado la nota más alta? Tendréis que poner en práctica, métodos aprendidos hoy y en la lección de listas de ayer.\n",
    "\n",
    "¿Qué alumna a sacado la nota más baja? ¿Es esta nota mayor que 5?"
   ]
  },
  {
   "cell_type": "code",
   "execution_count": 36,
   "metadata": {},
   "outputs": [
    {
     "name": "stdout",
     "output_type": "stream",
     "text": [
      "2\n",
      "9.8\n",
      "9.8\n",
      "8.5\n",
      "1\n",
      "Lorena\n",
      "True\n"
     ]
    }
   ],
   "source": [
    "# Vemos quién ha sacado la nota más alta:\n",
    "print(nombres.index(\"Lupe\"))\n",
    "print(notas[2])\n",
    "print(max(notas))\n",
    "\n",
    "# Vemos quién ha sacado la nota más baja:\n",
    "print(min(notas))\n",
    "print(notas.index(8.5))\n",
    "print(nombres[1])\n",
    "print(8.5 > 5)"
   ]
  },
  {
   "cell_type": "markdown",
   "metadata": {},
   "source": [
    "Ordenad la lista de notas de mayor a menor y almacenalo en una nueva variable llamada notas_nuevo_orden\n",
    "\n",
    "Ordenad las notas de las alumnas de mayor a menor. Usa el método que sobreescriba la variable notas.\n",
    "\n",
    "Ordenad la lista de nombres de mayor a menor. ¿Qué es lo que ha pasado?\n",
    "\n",
    "Borrad la lista de notas."
   ]
  },
  {
   "cell_type": "code",
   "execution_count": 50,
   "metadata": {},
   "outputs": [
    {
     "name": "stdout",
     "output_type": "stream",
     "text": [
      "[9.8, 9.2, 9, 8.9, 8.5]\n",
      "[9.8, 9.2, 9, 8.9, 8.5]\n",
      "['Lupe', 'Lucía', 'Loreto', 'Lorena', 'Laura']\n"
     ]
    }
   ],
   "source": [
    "# Como cin el método sorted no sobreescribimos, creamos una nueva variable:\n",
    "notas_nuevo_orden = sorted(notas)\n",
    "print(sorted(notas_nuevo_orden, reverse=True))\n",
    "\n",
    "# Las ordenamos de mayor a menor:\n",
    "notas.sort(reverse=True)\n",
    "print(notas)\n",
    "\n",
    "# Hacemos lo mismo con los nombres:\n",
    "nombres_nuevo_orden = sorted(nombres)\n",
    "print(sorted(nombres_nuevo_orden, reverse=True))"
   ]
  },
  {
   "cell_type": "code",
   "execution_count": 51,
   "metadata": {},
   "outputs": [],
   "source": [
    "del notas"
   ]
  },
  {
   "cell_type": "markdown",
   "metadata": {},
   "source": [
    "Dadas las siguientes listas:"
   ]
  },
  {
   "cell_type": "code",
   "execution_count": 63,
   "metadata": {},
   "outputs": [],
   "source": [
    "lunes = [34,56,82]\n",
    "martes = [99, 64, 24]\n",
    "miercoles = [12, 59, 71]"
   ]
  },
  {
   "cell_type": "markdown",
   "metadata": {},
   "source": [
    "Unid las tres listas de forma que tengamos el siguiente output\n",
    "[34, 56, 82, [99, 64, 24], [12, 59, 71]]"
   ]
  },
  {
   "cell_type": "code",
   "execution_count": 54,
   "metadata": {},
   "outputs": [
    {
     "name": "stdout",
     "output_type": "stream",
     "text": [
      "[34, 56, 82, [99, 64, 24], [12, 59, 71]]\n"
     ]
    }
   ],
   "source": [
    "# Creamos una lista de listas:\n",
    "lunes.append(martes)\n",
    "lunes.append(miercoles)\n",
    "print(lunes)"
   ]
  },
  {
   "cell_type": "markdown",
   "metadata": {},
   "source": [
    "Definid de nuevo la tres listas. Ahora unid las tres listas de tal forma que obtengamos el siguiente output:\n",
    "[34, 56, 82, 99, 64, 24, 12, 59, 71]"
   ]
  },
  {
   "cell_type": "code",
   "execution_count": 57,
   "metadata": {},
   "outputs": [],
   "source": [
    "# Aquí la unimos en una:\n",
    "lunes.extend(martes+miercoles)"
   ]
  },
  {
   "cell_type": "code",
   "execution_count": 58,
   "metadata": {},
   "outputs": [
    {
     "name": "stdout",
     "output_type": "stream",
     "text": [
      "[34, 56, 82, 99, 64, 24, 12, 59, 71]\n"
     ]
    }
   ],
   "source": [
    "print(lunes)"
   ]
  },
  {
   "cell_type": "markdown",
   "metadata": {},
   "source": [
    "Definid de nuevo las tres listas. Insertad los siguientes valores:\n",
    "\n",
    "En la lista lunes un 100 en la primera posición\n",
    "\n",
    "En la lista martes un 100 en la tercera posición\n",
    "\n",
    "En la lista miercoles un 100 en la última posición"
   ]
  },
  {
   "cell_type": "code",
   "execution_count": 64,
   "metadata": {},
   "outputs": [],
   "source": [
    "lunes.insert(0,100)\n",
    "martes.insert(2,100)\n",
    "miercoles.insert(3,100)"
   ]
  },
  {
   "cell_type": "code",
   "execution_count": 65,
   "metadata": {},
   "outputs": [
    {
     "name": "stdout",
     "output_type": "stream",
     "text": [
      "[100, 34, 56, 82]\n",
      "[99, 64, 100, 24]\n",
      "[12, 59, 71, 100]\n"
     ]
    }
   ],
   "source": [
    "print(lunes)\n",
    "print(martes)\n",
    "print(miercoles)"
   ]
  }
 ],
 "metadata": {
  "kernelspec": {
   "display_name": "Python 3.9.7 ('base')",
   "language": "python",
   "name": "python3"
  },
  "language_info": {
   "codemirror_mode": {
    "name": "ipython",
    "version": 3
   },
   "file_extension": ".py",
   "mimetype": "text/x-python",
   "name": "python",
   "nbconvert_exporter": "python",
   "pygments_lexer": "ipython3",
   "version": "3.9.7"
  },
  "orig_nbformat": 4,
  "vscode": {
   "interpreter": {
    "hash": "a132548e790cb25f951c67ed157520233be95043d6eb3836371ed4d98e90df31"
   }
  }
 },
 "nbformat": 4,
 "nbformat_minor": 2
}
